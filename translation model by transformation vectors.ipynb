{
 "cells": [
  {
   "cell_type": "code",
   "execution_count": 170,
   "id": "62557bad",
   "metadata": {},
   "outputs": [],
   "source": [
    "import numpy as np\n",
    "import pandas as pd\n",
    "from pickle import load\n",
    "import os\n",
    "from sklearn.model_selection import train_test_split"
   ]
  },
  {
   "cell_type": "code",
   "execution_count": 201,
   "id": "b6a77202",
   "metadata": {},
   "outputs": [],
   "source": [
    "def get_dict(file_name1,file_name2):\n",
    "    \"\"\"\n",
    "    This function returns the english to french dictionary given a file where the each column corresponds to a word.\n",
    "    Check out the files this function takes in your workspace.\n",
    "    \"\"\"\n",
    "    my_file1 = pd.read_csv(file_name1, delimiter=' ')\n",
    "    my_file2 = pd.read_csv(file_name2, delimiter=' ')\n",
    "    append_file=pd.DataFrame(np.concatenate((my_file1,my_file2)))\n",
    "    dict_ = {}  # the english to french dictionary to be returned\n",
    "    for i in range(len(append_file)):\n",
    "        # indexing into the rows.\n",
    "        en = append_file.loc[i][0]\n",
    "        fr = append_file.loc[i][1]\n",
    "        dict_[en] = fr\n",
    "\n",
    "    return dict_"
   ]
  },
  {
   "cell_type": "code",
   "execution_count": 202,
   "id": "3393218c",
   "metadata": {},
   "outputs": [],
   "source": [
    "os.chdir(r'C:\\Users\\rt\\Desktop\\Course1 NLP\\NLP PROJECTS')\n",
    "train_data=get_dict('en-fr.train.txt','en-fr.test.txt')\n",
    "\n",
    "embedding_en=load(open('en_embeddings.p','rb'))\n",
    "embedding_fr=load(open('fr_embeddings.p','rb'))"
   ]
  },
  {
   "cell_type": "code",
   "execution_count": 203,
   "id": "5ccb39e7",
   "metadata": {},
   "outputs": [
    {
     "data": {
      "text/plain": [
       "6500"
      ]
     },
     "execution_count": 203,
     "metadata": {},
     "output_type": "execute_result"
    }
   ],
   "source": [
    "#X_train, Y_train = get_matrices(train_data, embedding_en, embedding_fr)\n",
    "#X_train.shape\n",
    "len(train_data)"
   ]
  },
  {
   "cell_type": "code",
   "execution_count": 319,
   "id": "afdff1a8",
   "metadata": {},
   "outputs": [],
   "source": [
    "def create_matric(data,embedding_en,embedding_fr):\n",
    "    X=[]\n",
    "    Y=[]\n",
    "    index=[]\n",
    "    english_word={i for i in embedding_en.keys()}\n",
    "    frensh_word={i for i in embedding_fr.keys()}\n",
    "    for idx,words in enumerate(data.items()):\n",
    "        en_word=words[0]\n",
    "        fr_word=words[1]\n",
    "        if en_word in english_word and fr_word in frensh_word:\n",
    "            X.append(embedding_en[en_word])\n",
    "            Y.append(embedding_fr[fr_word])\n",
    "            index.append(idx)\n",
    "            \n",
    "    X=np.array(X)\n",
    "    Y=np.array(Y)\n",
    "    \n",
    "    return X,Y,index\n",
    "            "
   ]
  },
  {
   "cell_type": "code",
   "execution_count": 320,
   "id": "428faf59",
   "metadata": {},
   "outputs": [],
   "source": [
    "data,label,index=create_matric(train_data,embedding_en,embedding_fr)\n",
    "X_train,X_test,y_train,y_test=train_test_split(data,label,test_size=.2)"
   ]
  },
  {
   "cell_type": "code",
   "execution_count": 224,
   "id": "f67b094f",
   "metadata": {},
   "outputs": [
    {
     "name": "stdout",
     "output_type": "stream",
     "text": [
      "(5096, 300)\n"
     ]
    }
   ],
   "source": [
    "print(X_train.shape)"
   ]
  },
  {
   "cell_type": "code",
   "execution_count": 225,
   "id": "ccf93dcd",
   "metadata": {},
   "outputs": [],
   "source": [
    "def pred(X,R):\n",
    "    \n",
    "    return np.dot(X,R)\n",
    "    "
   ]
  },
  {
   "cell_type": "code",
   "execution_count": 226,
   "id": "7ee8494b",
   "metadata": {},
   "outputs": [],
   "source": [
    "def loss(X,Y,R):\n",
    "    \n",
    "    diff=pred(X,R)-Y\n",
    "    \n",
    "    squar=diff**2\n",
    "\n",
    "    loss=np.sum(squar)/len(Y)\n",
    "    \n",
    "    return loss\n",
    "    "
   ]
  },
  {
   "cell_type": "code",
   "execution_count": 227,
   "id": "3642c109",
   "metadata": {},
   "outputs": [],
   "source": [
    "def gredient(X,R,Y):\n",
    "    G=np.dot(X.T,(np.dot(X,R)-Y))*2/len(Y)\n",
    "    return G"
   ]
  },
  {
   "cell_type": "code",
   "execution_count": 228,
   "id": "b6812476",
   "metadata": {},
   "outputs": [],
   "source": [
    "def training(X,Y,num_iteration,alpha):\n",
    "    np.random.seed(129)\n",
    "    R=np.random.rand(X.shape[1],X.shape[1])\n",
    "    for i in range(num_iteration):\n",
    "        if i%25==0:\n",
    "            print(f'loss in iteration number {i} is {loss(X,Y,R)}')\n",
    "        gred=gredient(X,R,Y)\n",
    "        R-=alpha*gred\n",
    "    return R"
   ]
  },
  {
   "cell_type": "code",
   "execution_count": 229,
   "id": "b343f753",
   "metadata": {},
   "outputs": [],
   "source": [
    "def cosine_similarity (X,Y):\n",
    "\n",
    "        dot=np.dot(X,Y)\n",
    "        \n",
    "        norm_X,norm_Y=np.linalg.norm(X),np.linalg.norm(Y)\n",
    "\n",
    "        similarity=dot/(norm_X*norm_Y)\n",
    "        return similarity\n"
   ]
  },
  {
   "cell_type": "code",
   "execution_count": 230,
   "id": "e564e139",
   "metadata": {},
   "outputs": [],
   "source": [
    "def get_words(index,Y):\n",
    "    \n",
    "    return(Y[[index]])"
   ]
  },
  {
   "cell_type": "code",
   "execution_count": 338,
   "id": "ab7a7f6f",
   "metadata": {},
   "outputs": [],
   "source": [
    "def KNN(x,y,k=1):\n",
    "    similarity=[]\n",
    "    for words in x:\n",
    "        similarity.append(cosine_similarity(words,y))\n",
    "        \n",
    "    sort_idx=np.argsort(similarity)[::-1]    \n",
    "    \n",
    "    return sort_idx[:k]"
   ]
  },
  {
   "cell_type": "code",
   "execution_count": 232,
   "id": "94fde89e",
   "metadata": {
    "scrolled": true
   },
   "outputs": [
    {
     "name": "stdout",
     "output_type": "stream",
     "text": [
      "loss in iteration number 0 is 969.9282304709512\n",
      "loss in iteration number 25 is 97.03609272142533\n",
      "loss in iteration number 50 is 26.56952918240519\n",
      "loss in iteration number 75 is 9.629522641095903\n",
      "loss in iteration number 100 is 4.242680310658042\n",
      "loss in iteration number 125 is 2.2216958781611216\n",
      "loss in iteration number 150 is 1.3712735555268978\n",
      "loss in iteration number 175 is 0.9818555243159282\n",
      "loss in iteration number 200 is 0.7916390992104194\n",
      "loss in iteration number 225 is 0.6938362459697466\n",
      "loss in iteration number 250 is 0.6413746595674302\n",
      "loss in iteration number 275 is 0.6121987324159649\n",
      "loss in iteration number 300 is 0.5954524082069196\n",
      "loss in iteration number 325 is 0.5855680871657929\n",
      "loss in iteration number 350 is 0.5795874451060024\n",
      "loss in iteration number 375 is 0.5758884127805161\n"
     ]
    }
   ],
   "source": [
    "R=training(X_train,y_train,400,0.8)"
   ]
  },
  {
   "cell_type": "code",
   "execution_count": 262,
   "id": "c7646ab5",
   "metadata": {},
   "outputs": [],
   "source": [
    "def accuracy(X,Y):\n",
    "    accuracy=0\n",
    "    for index,x in enumerate(X):\n",
    "        prediction=pred(x,R)\n",
    "        idx=KNN(Y,prediction,k=1)\n",
    "        if idx==index:\n",
    "            accuracy+=1\n",
    "    accuracy=accuracy/len(X)\n",
    "    return accuracy"
   ]
  },
  {
   "cell_type": "code",
   "execution_count": 263,
   "id": "b5e5691c",
   "metadata": {},
   "outputs": [],
   "source": [
    "accuracy=accuracy(X_test,y_test)"
   ]
  },
  {
   "cell_type": "code",
   "execution_count": 264,
   "id": "79c53e86",
   "metadata": {},
   "outputs": [
    {
     "data": {
      "text/plain": [
       "0.5682888540031397"
      ]
     },
     "execution_count": 264,
     "metadata": {},
     "output_type": "execute_result"
    }
   ],
   "source": [
    "accuracy"
   ]
  },
  {
   "cell_type": "code",
   "execution_count": 380,
   "id": "105aa17e",
   "metadata": {},
   "outputs": [],
   "source": [
    "def get_translate(word,all_data,index):\n",
    "    en_words=list(all_data)\n",
    "    prediction=pred(embedding_en[word],R)\n",
    "    idx=KNN(label,prediction)\n",
    "    idx=index[idx[0]]\n",
    "    fr_word=all_data[en_words[idx]]\n",
    "    return(fr_word)\n",
    "    \n",
    "    "
   ]
  },
  {
   "cell_type": "code",
   "execution_count": 390,
   "id": "e215c09a",
   "metadata": {},
   "outputs": [
    {
     "data": {
      "text/plain": [
       "'mais'"
      ]
     },
     "execution_count": 390,
     "metadata": {},
     "output_type": "execute_result"
    }
   ],
   "source": [
    "get_translate('but',train_data,index)"
   ]
  }
 ],
 "metadata": {
  "kernelspec": {
   "display_name": "Python 3 (ipykernel)",
   "language": "python",
   "name": "python3"
  },
  "language_info": {
   "codemirror_mode": {
    "name": "ipython",
    "version": 3
   },
   "file_extension": ".py",
   "mimetype": "text/x-python",
   "name": "python",
   "nbconvert_exporter": "python",
   "pygments_lexer": "ipython3",
   "version": "3.7.16"
  }
 },
 "nbformat": 4,
 "nbformat_minor": 5
}
